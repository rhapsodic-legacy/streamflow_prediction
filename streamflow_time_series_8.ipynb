{
  "nbformat": 4,
  "nbformat_minor": 0,
  "metadata": {
    "colab": {
      "provenance": [],
      "collapsed_sections": [],
      "authorship_tag": "ABX9TyOYzAcQMe19g5rQZG7oKn5C",
      "include_colab_link": true
    },
    "kernelspec": {
      "name": "python3",
      "display_name": "Python 3"
    },
    "language_info": {
      "name": "python"
    }
  },
  "cells": [
    {
      "cell_type": "markdown",
      "metadata": {
        "id": "view-in-github",
        "colab_type": "text"
      },
      "source": [
        "<a href=\"https://colab.research.google.com/github/rhapsodic-legacy/streamflow_prediction/blob/main/streamflow_time_series_8.ipynb\" target=\"_parent\"><img src=\"https://colab.research.google.com/assets/colab-badge.svg\" alt=\"Open In Colab\"/></a>"
      ]
    },
    {
      "cell_type": "markdown",
      "source": [
        "## Multivariate Time Series Flood Prediction\n",
        "##### Ten Day Forecast, Top 10 Watersheds (rated by discharge value availability in the last 20 years of that watershed's recordings). "
      ],
      "metadata": {
        "id": "pKxq0TX1liOS"
      }
    },
    {
      "cell_type": "markdown",
      "source": [
        "### Phase One: Isolating the correct data to build a model upon. \n",
        "##### Each watershed has differing characteristics, so any given model prediction will be for a certain watershed. The target variable that directly correlates to a flood, is 'discharge'. \n",
        "##### Some watersheds have most of their discharge values available for model training, most have many missing values, and some are missing more than 90% of their discharge values. This is due to varying factors. \n",
        "#### For Watershed 8, this model's sMAPE score is: 32.18931624946136"
      ],
      "metadata": {
        "id": "t3eGd31GrbpG"
      }
    },
    {
      "cell_type": "code",
      "execution_count": 1,
      "metadata": {
        "colab": {
          "base_uri": "https://localhost:8080/"
        },
        "id": "wvY3NEqhlbi0",
        "outputId": "bd2e5d12-a65f-407e-a1d8-abc802ff9ef8"
      },
      "outputs": [
        {
          "output_type": "stream",
          "name": "stdout",
          "text": [
            "Mounted at /content/drive\n"
          ]
        }
      ],
      "source": [
        "# Import Google Drive\n",
        "from google.colab import drive\n",
        "drive.mount('/content/drive')"
      ]
    },
    {
      "cell_type": "code",
      "source": [
        "# Import relevant libraries\n",
        "import pandas as pd\n",
        "import numpy as np\n",
        "import torch\n",
        "import torch.nn as nn\n",
        "import matplotlib.pyplot as plt\n",
        "from sklearn.preprocessing import MinMaxScaler\n",
        "import math, time\n",
        "import sklearn as sk"
      ],
      "metadata": {
        "id": "sfn-nm4JmZJW"
      },
      "execution_count": 2,
      "outputs": []
    },
    {
      "cell_type": "code",
      "source": [
        "# Copy this file to a local drive. In this case, Google Drive. \n",
        "!cp /content/drive/MyDrive/Kalman_Filter/top_ten_watersheds.csv /content/"
      ],
      "metadata": {
        "id": "jQMsZ9GJueE3"
      },
      "execution_count": 4,
      "outputs": []
    },
    {
      "cell_type": "code",
      "source": [
        "df = pd.read_csv('top_ten_watersheds.csv')\n",
        "df.head()"
      ],
      "metadata": {
        "id": "abUMgMNTueIj",
        "colab": {
          "base_uri": "https://localhost:8080/",
          "height": 204
        },
        "outputId": "0f30159c-e703-41b7-ac38-3d0915021b49"
      },
      "execution_count": 5,
      "outputs": [
        {
          "output_type": "execute_result",
          "data": {
            "text/plain": [
              "         time  watershed        pr     tasmax     tasmin  discharge\n",
              "0  1950-01-01        175  0.966122 -21.574120 -27.607310        NaN\n",
              "1  1950-01-02        175  1.008771 -25.995184 -31.368013        NaN\n",
              "2  1950-01-03        175  0.000000 -28.295700 -38.181858        NaN\n",
              "3  1950-01-04        175  0.000000 -26.836973 -39.946175        NaN\n",
              "4  1950-01-05        175  0.000000 -29.592003 -37.728634        NaN"
            ],
            "text/html": [
              "\n",
              "  <div id=\"df-f1e169a7-3a61-4394-b037-125ce8571c07\">\n",
              "    <div class=\"colab-df-container\">\n",
              "      <div>\n",
              "<style scoped>\n",
              "    .dataframe tbody tr th:only-of-type {\n",
              "        vertical-align: middle;\n",
              "    }\n",
              "\n",
              "    .dataframe tbody tr th {\n",
              "        vertical-align: top;\n",
              "    }\n",
              "\n",
              "    .dataframe thead th {\n",
              "        text-align: right;\n",
              "    }\n",
              "</style>\n",
              "<table border=\"1\" class=\"dataframe\">\n",
              "  <thead>\n",
              "    <tr style=\"text-align: right;\">\n",
              "      <th></th>\n",
              "      <th>time</th>\n",
              "      <th>watershed</th>\n",
              "      <th>pr</th>\n",
              "      <th>tasmax</th>\n",
              "      <th>tasmin</th>\n",
              "      <th>discharge</th>\n",
              "    </tr>\n",
              "  </thead>\n",
              "  <tbody>\n",
              "    <tr>\n",
              "      <th>0</th>\n",
              "      <td>1950-01-01</td>\n",
              "      <td>175</td>\n",
              "      <td>0.966122</td>\n",
              "      <td>-21.574120</td>\n",
              "      <td>-27.607310</td>\n",
              "      <td>NaN</td>\n",
              "    </tr>\n",
              "    <tr>\n",
              "      <th>1</th>\n",
              "      <td>1950-01-02</td>\n",
              "      <td>175</td>\n",
              "      <td>1.008771</td>\n",
              "      <td>-25.995184</td>\n",
              "      <td>-31.368013</td>\n",
              "      <td>NaN</td>\n",
              "    </tr>\n",
              "    <tr>\n",
              "      <th>2</th>\n",
              "      <td>1950-01-03</td>\n",
              "      <td>175</td>\n",
              "      <td>0.000000</td>\n",
              "      <td>-28.295700</td>\n",
              "      <td>-38.181858</td>\n",
              "      <td>NaN</td>\n",
              "    </tr>\n",
              "    <tr>\n",
              "      <th>3</th>\n",
              "      <td>1950-01-04</td>\n",
              "      <td>175</td>\n",
              "      <td>0.000000</td>\n",
              "      <td>-26.836973</td>\n",
              "      <td>-39.946175</td>\n",
              "      <td>NaN</td>\n",
              "    </tr>\n",
              "    <tr>\n",
              "      <th>4</th>\n",
              "      <td>1950-01-05</td>\n",
              "      <td>175</td>\n",
              "      <td>0.000000</td>\n",
              "      <td>-29.592003</td>\n",
              "      <td>-37.728634</td>\n",
              "      <td>NaN</td>\n",
              "    </tr>\n",
              "  </tbody>\n",
              "</table>\n",
              "</div>\n",
              "      <button class=\"colab-df-convert\" onclick=\"convertToInteractive('df-f1e169a7-3a61-4394-b037-125ce8571c07')\"\n",
              "              title=\"Convert this dataframe to an interactive table.\"\n",
              "              style=\"display:none;\">\n",
              "        \n",
              "  <svg xmlns=\"http://www.w3.org/2000/svg\" height=\"24px\"viewBox=\"0 0 24 24\"\n",
              "       width=\"24px\">\n",
              "    <path d=\"M0 0h24v24H0V0z\" fill=\"none\"/>\n",
              "    <path d=\"M18.56 5.44l.94 2.06.94-2.06 2.06-.94-2.06-.94-.94-2.06-.94 2.06-2.06.94zm-11 1L8.5 8.5l.94-2.06 2.06-.94-2.06-.94L8.5 2.5l-.94 2.06-2.06.94zm10 10l.94 2.06.94-2.06 2.06-.94-2.06-.94-.94-2.06-.94 2.06-2.06.94z\"/><path d=\"M17.41 7.96l-1.37-1.37c-.4-.4-.92-.59-1.43-.59-.52 0-1.04.2-1.43.59L10.3 9.45l-7.72 7.72c-.78.78-.78 2.05 0 2.83L4 21.41c.39.39.9.59 1.41.59.51 0 1.02-.2 1.41-.59l7.78-7.78 2.81-2.81c.8-.78.8-2.07 0-2.86zM5.41 20L4 18.59l7.72-7.72 1.47 1.35L5.41 20z\"/>\n",
              "  </svg>\n",
              "      </button>\n",
              "      \n",
              "  <style>\n",
              "    .colab-df-container {\n",
              "      display:flex;\n",
              "      flex-wrap:wrap;\n",
              "      gap: 12px;\n",
              "    }\n",
              "\n",
              "    .colab-df-convert {\n",
              "      background-color: #E8F0FE;\n",
              "      border: none;\n",
              "      border-radius: 50%;\n",
              "      cursor: pointer;\n",
              "      display: none;\n",
              "      fill: #1967D2;\n",
              "      height: 32px;\n",
              "      padding: 0 0 0 0;\n",
              "      width: 32px;\n",
              "    }\n",
              "\n",
              "    .colab-df-convert:hover {\n",
              "      background-color: #E2EBFA;\n",
              "      box-shadow: 0px 1px 2px rgba(60, 64, 67, 0.3), 0px 1px 3px 1px rgba(60, 64, 67, 0.15);\n",
              "      fill: #174EA6;\n",
              "    }\n",
              "\n",
              "    [theme=dark] .colab-df-convert {\n",
              "      background-color: #3B4455;\n",
              "      fill: #D2E3FC;\n",
              "    }\n",
              "\n",
              "    [theme=dark] .colab-df-convert:hover {\n",
              "      background-color: #434B5C;\n",
              "      box-shadow: 0px 1px 3px 1px rgba(0, 0, 0, 0.15);\n",
              "      filter: drop-shadow(0px 1px 2px rgba(0, 0, 0, 0.3));\n",
              "      fill: #FFFFFF;\n",
              "    }\n",
              "  </style>\n",
              "\n",
              "      <script>\n",
              "        const buttonEl =\n",
              "          document.querySelector('#df-f1e169a7-3a61-4394-b037-125ce8571c07 button.colab-df-convert');\n",
              "        buttonEl.style.display =\n",
              "          google.colab.kernel.accessAllowed ? 'block' : 'none';\n",
              "\n",
              "        async function convertToInteractive(key) {\n",
              "          const element = document.querySelector('#df-f1e169a7-3a61-4394-b037-125ce8571c07');\n",
              "          const dataTable =\n",
              "            await google.colab.kernel.invokeFunction('convertToInteractive',\n",
              "                                                     [key], {});\n",
              "          if (!dataTable) return;\n",
              "\n",
              "          const docLinkHtml = 'Like what you see? Visit the ' +\n",
              "            '<a target=\"_blank\" href=https://colab.research.google.com/notebooks/data_table.ipynb>data table notebook</a>'\n",
              "            + ' to learn more about interactive tables.';\n",
              "          element.innerHTML = '';\n",
              "          dataTable['output_type'] = 'display_data';\n",
              "          await google.colab.output.renderOutput(dataTable, element);\n",
              "          const docLink = document.createElement('div');\n",
              "          docLink.innerHTML = docLinkHtml;\n",
              "          element.appendChild(docLink);\n",
              "        }\n",
              "      </script>\n",
              "    </div>\n",
              "  </div>\n",
              "  "
            ]
          },
          "metadata": {},
          "execution_count": 5
        }
      ]
    },
    {
      "cell_type": "code",
      "source": [
        "df.watershed.unique()"
      ],
      "metadata": {
        "colab": {
          "base_uri": "https://localhost:8080/"
        },
        "id": "Y_6PTVaP4dmJ",
        "outputId": "5947cb04-2b0b-40da-8139-9817ff4d4b8d"
      },
      "execution_count": 6,
      "outputs": [
        {
          "output_type": "execute_result",
          "data": {
            "text/plain": [
              "array([175,   8, 205, 159, 252, 110, 214,  27, 147, 236])"
            ]
          },
          "metadata": {},
          "execution_count": 6
        }
      ]
    },
    {
      "cell_type": "markdown",
      "source": [
        "### Phase Two: Data Cleaning and Feature Selection"
      ],
      "metadata": {
        "id": "_2jrGkpxv-f4"
      }
    },
    {
      "cell_type": "code",
      "source": [
        "# As watershed 8 had the second most discharge values, it will be explored. \n",
        "shed8 = df[(df['watershed'] == 8)]\n",
        "shed8.tail()"
      ],
      "metadata": {
        "id": "dih1XWl9vx3j",
        "colab": {
          "base_uri": "https://localhost:8080/",
          "height": 204
        },
        "outputId": "6c245c0c-f7f2-426b-82ad-7ba89b5e39e3"
      },
      "execution_count": 9,
      "outputs": [
        {
          "output_type": "execute_result",
          "data": {
            "text/plain": [
              "             time  watershed         pr    tasmax     tasmin  discharge\n",
              "50399  2018-12-27          8   0.000000 -4.525000 -12.713847        NaN\n",
              "50400  2018-12-28          8   3.095808 -4.477844  -7.687799        NaN\n",
              "50401  2018-12-29          8  10.622604  4.529790  -5.354715        NaN\n",
              "50402  2018-12-30          8   5.917290  1.838473 -13.661377        NaN\n",
              "50403  2018-12-31          8   0.518263 -9.067141 -23.757261        NaN"
            ],
            "text/html": [
              "\n",
              "  <div id=\"df-ceaf8215-1426-4cfb-889a-de595d068586\">\n",
              "    <div class=\"colab-df-container\">\n",
              "      <div>\n",
              "<style scoped>\n",
              "    .dataframe tbody tr th:only-of-type {\n",
              "        vertical-align: middle;\n",
              "    }\n",
              "\n",
              "    .dataframe tbody tr th {\n",
              "        vertical-align: top;\n",
              "    }\n",
              "\n",
              "    .dataframe thead th {\n",
              "        text-align: right;\n",
              "    }\n",
              "</style>\n",
              "<table border=\"1\" class=\"dataframe\">\n",
              "  <thead>\n",
              "    <tr style=\"text-align: right;\">\n",
              "      <th></th>\n",
              "      <th>time</th>\n",
              "      <th>watershed</th>\n",
              "      <th>pr</th>\n",
              "      <th>tasmax</th>\n",
              "      <th>tasmin</th>\n",
              "      <th>discharge</th>\n",
              "    </tr>\n",
              "  </thead>\n",
              "  <tbody>\n",
              "    <tr>\n",
              "      <th>50399</th>\n",
              "      <td>2018-12-27</td>\n",
              "      <td>8</td>\n",
              "      <td>0.000000</td>\n",
              "      <td>-4.525000</td>\n",
              "      <td>-12.713847</td>\n",
              "      <td>NaN</td>\n",
              "    </tr>\n",
              "    <tr>\n",
              "      <th>50400</th>\n",
              "      <td>2018-12-28</td>\n",
              "      <td>8</td>\n",
              "      <td>3.095808</td>\n",
              "      <td>-4.477844</td>\n",
              "      <td>-7.687799</td>\n",
              "      <td>NaN</td>\n",
              "    </tr>\n",
              "    <tr>\n",
              "      <th>50401</th>\n",
              "      <td>2018-12-29</td>\n",
              "      <td>8</td>\n",
              "      <td>10.622604</td>\n",
              "      <td>4.529790</td>\n",
              "      <td>-5.354715</td>\n",
              "      <td>NaN</td>\n",
              "    </tr>\n",
              "    <tr>\n",
              "      <th>50402</th>\n",
              "      <td>2018-12-30</td>\n",
              "      <td>8</td>\n",
              "      <td>5.917290</td>\n",
              "      <td>1.838473</td>\n",
              "      <td>-13.661377</td>\n",
              "      <td>NaN</td>\n",
              "    </tr>\n",
              "    <tr>\n",
              "      <th>50403</th>\n",
              "      <td>2018-12-31</td>\n",
              "      <td>8</td>\n",
              "      <td>0.518263</td>\n",
              "      <td>-9.067141</td>\n",
              "      <td>-23.757261</td>\n",
              "      <td>NaN</td>\n",
              "    </tr>\n",
              "  </tbody>\n",
              "</table>\n",
              "</div>\n",
              "      <button class=\"colab-df-convert\" onclick=\"convertToInteractive('df-ceaf8215-1426-4cfb-889a-de595d068586')\"\n",
              "              title=\"Convert this dataframe to an interactive table.\"\n",
              "              style=\"display:none;\">\n",
              "        \n",
              "  <svg xmlns=\"http://www.w3.org/2000/svg\" height=\"24px\"viewBox=\"0 0 24 24\"\n",
              "       width=\"24px\">\n",
              "    <path d=\"M0 0h24v24H0V0z\" fill=\"none\"/>\n",
              "    <path d=\"M18.56 5.44l.94 2.06.94-2.06 2.06-.94-2.06-.94-.94-2.06-.94 2.06-2.06.94zm-11 1L8.5 8.5l.94-2.06 2.06-.94-2.06-.94L8.5 2.5l-.94 2.06-2.06.94zm10 10l.94 2.06.94-2.06 2.06-.94-2.06-.94-.94-2.06-.94 2.06-2.06.94z\"/><path d=\"M17.41 7.96l-1.37-1.37c-.4-.4-.92-.59-1.43-.59-.52 0-1.04.2-1.43.59L10.3 9.45l-7.72 7.72c-.78.78-.78 2.05 0 2.83L4 21.41c.39.39.9.59 1.41.59.51 0 1.02-.2 1.41-.59l7.78-7.78 2.81-2.81c.8-.78.8-2.07 0-2.86zM5.41 20L4 18.59l7.72-7.72 1.47 1.35L5.41 20z\"/>\n",
              "  </svg>\n",
              "      </button>\n",
              "      \n",
              "  <style>\n",
              "    .colab-df-container {\n",
              "      display:flex;\n",
              "      flex-wrap:wrap;\n",
              "      gap: 12px;\n",
              "    }\n",
              "\n",
              "    .colab-df-convert {\n",
              "      background-color: #E8F0FE;\n",
              "      border: none;\n",
              "      border-radius: 50%;\n",
              "      cursor: pointer;\n",
              "      display: none;\n",
              "      fill: #1967D2;\n",
              "      height: 32px;\n",
              "      padding: 0 0 0 0;\n",
              "      width: 32px;\n",
              "    }\n",
              "\n",
              "    .colab-df-convert:hover {\n",
              "      background-color: #E2EBFA;\n",
              "      box-shadow: 0px 1px 2px rgba(60, 64, 67, 0.3), 0px 1px 3px 1px rgba(60, 64, 67, 0.15);\n",
              "      fill: #174EA6;\n",
              "    }\n",
              "\n",
              "    [theme=dark] .colab-df-convert {\n",
              "      background-color: #3B4455;\n",
              "      fill: #D2E3FC;\n",
              "    }\n",
              "\n",
              "    [theme=dark] .colab-df-convert:hover {\n",
              "      background-color: #434B5C;\n",
              "      box-shadow: 0px 1px 3px 1px rgba(0, 0, 0, 0.15);\n",
              "      filter: drop-shadow(0px 1px 2px rgba(0, 0, 0, 0.3));\n",
              "      fill: #FFFFFF;\n",
              "    }\n",
              "  </style>\n",
              "\n",
              "      <script>\n",
              "        const buttonEl =\n",
              "          document.querySelector('#df-ceaf8215-1426-4cfb-889a-de595d068586 button.colab-df-convert');\n",
              "        buttonEl.style.display =\n",
              "          google.colab.kernel.accessAllowed ? 'block' : 'none';\n",
              "\n",
              "        async function convertToInteractive(key) {\n",
              "          const element = document.querySelector('#df-ceaf8215-1426-4cfb-889a-de595d068586');\n",
              "          const dataTable =\n",
              "            await google.colab.kernel.invokeFunction('convertToInteractive',\n",
              "                                                     [key], {});\n",
              "          if (!dataTable) return;\n",
              "\n",
              "          const docLinkHtml = 'Like what you see? Visit the ' +\n",
              "            '<a target=\"_blank\" href=https://colab.research.google.com/notebooks/data_table.ipynb>data table notebook</a>'\n",
              "            + ' to learn more about interactive tables.';\n",
              "          element.innerHTML = '';\n",
              "          dataTable['output_type'] = 'display_data';\n",
              "          await google.colab.output.renderOutput(dataTable, element);\n",
              "          const docLink = document.createElement('div');\n",
              "          docLink.innerHTML = docLinkHtml;\n",
              "          element.appendChild(docLink);\n",
              "        }\n",
              "      </script>\n",
              "    </div>\n",
              "  </div>\n",
              "  "
            ]
          },
          "metadata": {},
          "execution_count": 9
        }
      ]
    },
    {
      "cell_type": "code",
      "source": [
        "# It seems watershed 8 has null values towards the end of its readings. \n",
        "# Observe when the last recorded discharge value was. \n",
        "copy = shed8.copy()\n",
        "copy.dropna(inplace=True)\n",
        "copy.tail()"
      ],
      "metadata": {
        "colab": {
          "base_uri": "https://localhost:8080/",
          "height": 204
        },
        "id": "sXTuL6dL5RMT",
        "outputId": "fbb77c08-bae4-46b0-e22a-3753da10f04b"
      },
      "execution_count": 11,
      "outputs": [
        {
          "output_type": "execute_result",
          "data": {
            "text/plain": [
              "             time  watershed        pr    tasmax     tasmin  discharge\n",
              "49303  2015-12-27          8  0.450599 -3.780838  -7.854042       9.02\n",
              "49304  2015-12-28          8  3.350823 -3.364820 -11.941392       7.74\n",
              "49305  2015-12-29          8  0.518263 -6.307036 -17.437800       7.10\n",
              "49306  2015-12-30          8  0.000000 -6.492216 -17.942291       7.20\n",
              "49307  2015-12-31          8  1.320734 -6.581362 -11.561751       7.61"
            ],
            "text/html": [
              "\n",
              "  <div id=\"df-70a02df5-9a90-4ddf-9b49-bb463917276a\">\n",
              "    <div class=\"colab-df-container\">\n",
              "      <div>\n",
              "<style scoped>\n",
              "    .dataframe tbody tr th:only-of-type {\n",
              "        vertical-align: middle;\n",
              "    }\n",
              "\n",
              "    .dataframe tbody tr th {\n",
              "        vertical-align: top;\n",
              "    }\n",
              "\n",
              "    .dataframe thead th {\n",
              "        text-align: right;\n",
              "    }\n",
              "</style>\n",
              "<table border=\"1\" class=\"dataframe\">\n",
              "  <thead>\n",
              "    <tr style=\"text-align: right;\">\n",
              "      <th></th>\n",
              "      <th>time</th>\n",
              "      <th>watershed</th>\n",
              "      <th>pr</th>\n",
              "      <th>tasmax</th>\n",
              "      <th>tasmin</th>\n",
              "      <th>discharge</th>\n",
              "    </tr>\n",
              "  </thead>\n",
              "  <tbody>\n",
              "    <tr>\n",
              "      <th>49303</th>\n",
              "      <td>2015-12-27</td>\n",
              "      <td>8</td>\n",
              "      <td>0.450599</td>\n",
              "      <td>-3.780838</td>\n",
              "      <td>-7.854042</td>\n",
              "      <td>9.02</td>\n",
              "    </tr>\n",
              "    <tr>\n",
              "      <th>49304</th>\n",
              "      <td>2015-12-28</td>\n",
              "      <td>8</td>\n",
              "      <td>3.350823</td>\n",
              "      <td>-3.364820</td>\n",
              "      <td>-11.941392</td>\n",
              "      <td>7.74</td>\n",
              "    </tr>\n",
              "    <tr>\n",
              "      <th>49305</th>\n",
              "      <td>2015-12-29</td>\n",
              "      <td>8</td>\n",
              "      <td>0.518263</td>\n",
              "      <td>-6.307036</td>\n",
              "      <td>-17.437800</td>\n",
              "      <td>7.10</td>\n",
              "    </tr>\n",
              "    <tr>\n",
              "      <th>49306</th>\n",
              "      <td>2015-12-30</td>\n",
              "      <td>8</td>\n",
              "      <td>0.000000</td>\n",
              "      <td>-6.492216</td>\n",
              "      <td>-17.942291</td>\n",
              "      <td>7.20</td>\n",
              "    </tr>\n",
              "    <tr>\n",
              "      <th>49307</th>\n",
              "      <td>2015-12-31</td>\n",
              "      <td>8</td>\n",
              "      <td>1.320734</td>\n",
              "      <td>-6.581362</td>\n",
              "      <td>-11.561751</td>\n",
              "      <td>7.61</td>\n",
              "    </tr>\n",
              "  </tbody>\n",
              "</table>\n",
              "</div>\n",
              "      <button class=\"colab-df-convert\" onclick=\"convertToInteractive('df-70a02df5-9a90-4ddf-9b49-bb463917276a')\"\n",
              "              title=\"Convert this dataframe to an interactive table.\"\n",
              "              style=\"display:none;\">\n",
              "        \n",
              "  <svg xmlns=\"http://www.w3.org/2000/svg\" height=\"24px\"viewBox=\"0 0 24 24\"\n",
              "       width=\"24px\">\n",
              "    <path d=\"M0 0h24v24H0V0z\" fill=\"none\"/>\n",
              "    <path d=\"M18.56 5.44l.94 2.06.94-2.06 2.06-.94-2.06-.94-.94-2.06-.94 2.06-2.06.94zm-11 1L8.5 8.5l.94-2.06 2.06-.94-2.06-.94L8.5 2.5l-.94 2.06-2.06.94zm10 10l.94 2.06.94-2.06 2.06-.94-2.06-.94-.94-2.06-.94 2.06-2.06.94z\"/><path d=\"M17.41 7.96l-1.37-1.37c-.4-.4-.92-.59-1.43-.59-.52 0-1.04.2-1.43.59L10.3 9.45l-7.72 7.72c-.78.78-.78 2.05 0 2.83L4 21.41c.39.39.9.59 1.41.59.51 0 1.02-.2 1.41-.59l7.78-7.78 2.81-2.81c.8-.78.8-2.07 0-2.86zM5.41 20L4 18.59l7.72-7.72 1.47 1.35L5.41 20z\"/>\n",
              "  </svg>\n",
              "      </button>\n",
              "      \n",
              "  <style>\n",
              "    .colab-df-container {\n",
              "      display:flex;\n",
              "      flex-wrap:wrap;\n",
              "      gap: 12px;\n",
              "    }\n",
              "\n",
              "    .colab-df-convert {\n",
              "      background-color: #E8F0FE;\n",
              "      border: none;\n",
              "      border-radius: 50%;\n",
              "      cursor: pointer;\n",
              "      display: none;\n",
              "      fill: #1967D2;\n",
              "      height: 32px;\n",
              "      padding: 0 0 0 0;\n",
              "      width: 32px;\n",
              "    }\n",
              "\n",
              "    .colab-df-convert:hover {\n",
              "      background-color: #E2EBFA;\n",
              "      box-shadow: 0px 1px 2px rgba(60, 64, 67, 0.3), 0px 1px 3px 1px rgba(60, 64, 67, 0.15);\n",
              "      fill: #174EA6;\n",
              "    }\n",
              "\n",
              "    [theme=dark] .colab-df-convert {\n",
              "      background-color: #3B4455;\n",
              "      fill: #D2E3FC;\n",
              "    }\n",
              "\n",
              "    [theme=dark] .colab-df-convert:hover {\n",
              "      background-color: #434B5C;\n",
              "      box-shadow: 0px 1px 3px 1px rgba(0, 0, 0, 0.15);\n",
              "      filter: drop-shadow(0px 1px 2px rgba(0, 0, 0, 0.3));\n",
              "      fill: #FFFFFF;\n",
              "    }\n",
              "  </style>\n",
              "\n",
              "      <script>\n",
              "        const buttonEl =\n",
              "          document.querySelector('#df-70a02df5-9a90-4ddf-9b49-bb463917276a button.colab-df-convert');\n",
              "        buttonEl.style.display =\n",
              "          google.colab.kernel.accessAllowed ? 'block' : 'none';\n",
              "\n",
              "        async function convertToInteractive(key) {\n",
              "          const element = document.querySelector('#df-70a02df5-9a90-4ddf-9b49-bb463917276a');\n",
              "          const dataTable =\n",
              "            await google.colab.kernel.invokeFunction('convertToInteractive',\n",
              "                                                     [key], {});\n",
              "          if (!dataTable) return;\n",
              "\n",
              "          const docLinkHtml = 'Like what you see? Visit the ' +\n",
              "            '<a target=\"_blank\" href=https://colab.research.google.com/notebooks/data_table.ipynb>data table notebook</a>'\n",
              "            + ' to learn more about interactive tables.';\n",
              "          element.innerHTML = '';\n",
              "          dataTable['output_type'] = 'display_data';\n",
              "          await google.colab.output.renderOutput(dataTable, element);\n",
              "          const docLink = document.createElement('div');\n",
              "          docLink.innerHTML = docLinkHtml;\n",
              "          element.appendChild(docLink);\n",
              "        }\n",
              "      </script>\n",
              "    </div>\n",
              "  </div>\n",
              "  "
            ]
          },
          "metadata": {},
          "execution_count": 11
        }
      ]
    },
    {
      "cell_type": "code",
      "source": [
        "# We will be focusing on the past twentyfive years of data. \n",
        "# As 2015 was the last year of recordings, 1991 forward will be taken. \n",
        "shed8 = shed8[(shed8['time'] > '1990-12-31')]"
      ],
      "metadata": {
        "id": "z6UgV_1V5qFj"
      },
      "execution_count": 12,
      "outputs": []
    },
    {
      "cell_type": "code",
      "source": [
        "# For visual representation, plotting discharge of watershed 8\n",
        "x = range(len(shed8))\n",
        "y = shed8.discharge\n",
        "\n",
        "f = plt.figure()\n",
        "f.set_figwidth(30)\n",
        "f.set_figheight(10)\n",
        "plt.title(\"Watershed 8\")\n",
        "plt.xlabel(\"Time Steps (days forward from Jan.1 1991\") # A track varies in timing, but averages to every 3 days.\n",
        "plt.ylabel(\"Discharge Level (cubic meters per second)\")\n",
        "plt.plot(y, label = 'Discharge')\n",
        "\n",
        "plt.legend()\n",
        "plt.show()"
      ],
      "metadata": {
        "colab": {
          "base_uri": "https://localhost:8080/",
          "height": 496
        },
        "id": "9PCiLAct4vO4",
        "outputId": "51979851-c4ec-49fa-eb45-94ed11de3339"
      },
      "execution_count": 13,
      "outputs": [
        {
          "output_type": "display_data",
          "data": {
            "text/plain": [
              "<Figure size 2160x720 with 1 Axes>"
            ],
            "image/png": "[encoded data removed]"
          },
          "metadata": {
            "needs_background": "light"
          }
        }
      ]
    },
    {
      "cell_type": "code",
      "source": [
        "# There doesn't appear to be many missing discharge values. \n",
        "# Measure how many NaN's there are. \n",
        "shed8.isna().sum()"
      ],
      "metadata": {
        "id": "nfmA95YOweKZ",
        "colab": {
          "base_uri": "https://localhost:8080/"
        },
        "outputId": "0f7b6cc8-e488-46ca-b3cd-84b3692d44fa"
      },
      "execution_count": 14,
      "outputs": [
        {
          "output_type": "execute_result",
          "data": {
            "text/plain": [
              "time            0\n",
              "watershed       0\n",
              "pr              0\n",
              "tasmax          0\n",
              "tasmin          0\n",
              "discharge    1096\n",
              "dtype: int64"
            ]
          },
          "metadata": {},
          "execution_count": 14
        }
      ]
    },
    {
      "cell_type": "code",
      "source": [
        "# For this watershed, the missing values do not acrue near peak discharge moments. \n",
        "# Using Pandas built in function 'interpolate', nan values will be filled in. \n",
        "\n",
        "# Switching the 'time' column to the datetime format.\n",
        "shed8[\"time\"] = pd.to_datetime(shed8[\"time\"])"
      ],
      "metadata": {
        "id": "cHqKkHGiyJk2"
      },
      "execution_count": 15,
      "outputs": []
    },
    {
      "cell_type": "code",
      "source": [
        "shed8.set_index('time', inplace = True)\n",
        "for watershedID in set(shed8[\"watershed\"]):\n",
        "  shed8[shed8[\"watershed\"] == watershedID] = shed8[shed8[\"watershed\"] == watershedID].interpolate(method='time', axis=0, limit_direction=\"both\")"
      ],
      "metadata": {
        "id": "U_uD1fCswKgc"
      },
      "execution_count": 16,
      "outputs": []
    },
    {
      "cell_type": "code",
      "source": [
        "\"\"\"# For visual representation, plotting discharge of watershed 8\n",
        "\n",
        "x = range(len(shed175))\n",
        "y = shed175.discharge\n",
        "\n",
        "f = plt.figure()\n",
        "f.set_figwidth(30)\n",
        "f.set_figheight(10)\n",
        "plt.title(\"Watershed 175\")\n",
        "plt.xlabel(\"Time Steps (days forward from January 1, 1991)\") # A track varies in timing, but averages to every 3 days.\n",
        "plt.ylabel(\"Discharge Level (cubic meters per second)\")\n",
        "plt.plot(y, label = 'Discharge')\n",
        "\n",
        "plt.legend()\n",
        "plt.show()\"\"\""
      ],
      "metadata": {
        "colab": {
          "base_uri": "https://localhost:8080/",
          "height": 71
        },
        "id": "PjHBk8chyTkK",
        "outputId": "f4e351e1-67cd-4841-a245-e6e9c3383ab2"
      },
      "execution_count": 17,
      "outputs": [
        {
          "output_type": "execute_result",
          "data": {
            "text/plain": [
              "'# For visual representation, plotting discharge of watershed 8\\n\\nx = range(len(shed175))\\ny = shed175.discharge\\n\\nf = plt.figure()\\nf.set_figwidth(30)\\nf.set_figheight(10)\\nplt.title(\"Watershed 175\")\\nplt.xlabel(\"Time Steps (days forward from January 1, 1991)\") # A track varies in timing, but averages to every 3 days.\\nplt.ylabel(\"Discharge Level (cubic meters per second)\")\\nplt.plot(y, label = \\'Discharge\\')\\n\\nplt.legend()\\nplt.show()'"
            ],
            "application/vnd.google.colaboratory.intrinsic+json": {
              "type": "string"
            }
          },
          "metadata": {},
          "execution_count": 17
        }
      ]
    },
    {
      "cell_type": "code",
      "source": [
        "# Dropping the rows that are NaN at the end. \n",
        "shed8 = shed8[(shed8.index < '2016-01-01')]"
      ],
      "metadata": {
        "id": "Z-JQAbMJ7L-H"
      },
      "execution_count": 30,
      "outputs": []
    },
    {
      "cell_type": "code",
      "source": [
        "# For purposes of ease of experimentation, a copy will be made of the dataframe. \n",
        "model = shed8.copy()"
      ],
      "metadata": {
        "id": "nQfzinM3J_B2"
      },
      "execution_count": 31,
      "outputs": []
    },
    {
      "cell_type": "code",
      "source": [
        "# Herein we will create a function that creates represenations of the past days. \n",
        "# And A fortnight is the target variable. --> This can be changed to 10 days out, instead of 14. \n",
        "\n",
        "def advance(x):\n",
        "  num_list = []\n",
        "  length = len(model.discharge)\n",
        "  for i in range(length):\n",
        "    if x + i >= length: # For calculating the target variable\n",
        "      num = i\n",
        "    elif i + x < 0: # For calculating the past. \n",
        "      num = i\n",
        "    else:\n",
        "      num = i + x # Other than the outliers, the value will be discharge[i + 'x']\n",
        "    forecast = model['discharge'][num]\n",
        "    num_list.append(forecast)\n",
        "  name = f\"discharge_{x}\"    \n",
        "  model[name] = num_list #model1['discharge'][num]"
      ],
      "metadata": {
        "id": "L4zj5fV5wKpU"
      },
      "execution_count": 32,
      "outputs": []
    },
    {
      "cell_type": "code",
      "source": [
        "# The target forecast was identified as 10 days, by a NRCan representative. \n",
        "advance(10)\n",
        "model.head()"
      ],
      "metadata": {
        "colab": {
          "base_uri": "https://localhost:8080/",
          "height": 235
        },
        "id": "jvyQhY6GwKkz",
        "outputId": "19710d3a-94ca-4add-d9eb-f06bf14445cd"
      },
      "execution_count": 33,
      "outputs": [
        {
          "output_type": "execute_result",
          "data": {
            "text/plain": [
              "            watershed        pr     tasmax     tasmin  discharge  discharge_10\n",
              "time                                                                          \n",
              "1991-01-01          8  5.387799 -16.682634 -20.962350       4.70          4.07\n",
              "1991-01-02          8  0.874177  -4.969985 -31.367516       4.56          4.25\n",
              "1991-01-03          8  0.428518 -11.568413 -27.783907       4.43          5.20\n",
              "1991-01-04          8  0.133608 -13.293263 -27.338250       4.24          5.41\n",
              "1991-01-05          8  0.000000 -13.462649 -25.158234       4.15          5.44"
            ],
            "text/html": [
              "\n",
              "  <div id=\"df-099663c9-a6a1-4ced-9871-36870330e69b\">\n",
              "    <div class=\"colab-df-container\">\n",
              "      <div>\n",
              "<style scoped>\n",
              "    .dataframe tbody tr th:only-of-type {\n",
              "        vertical-align: middle;\n",
              "    }\n",
              "\n",
              "    .dataframe tbody tr th {\n",
              "        vertical-align: top;\n",
              "    }\n",
              "\n",
              "    .dataframe thead th {\n",
              "        text-align: right;\n",
              "    }\n",
              "</style>\n",
              "<table border=\"1\" class=\"dataframe\">\n",
              "  <thead>\n",
              "    <tr style=\"text-align: right;\">\n",
              "      <th></th>\n",
              "      <th>watershed</th>\n",
              "      <th>pr</th>\n",
              "      <th>tasmax</th>\n",
              "      <th>tasmin</th>\n",
              "      <th>discharge</th>\n",
              "      <th>discharge_10</th>\n",
              "    </tr>\n",
              "    <tr>\n",
              "      <th>time</th>\n",
              "      <th></th>\n",
              "      <th></th>\n",
              "      <th></th>\n",
              "      <th></th>\n",
              "      <th></th>\n",
              "      <th></th>\n",
              "    </tr>\n",
              "  </thead>\n",
              "  <tbody>\n",
              "    <tr>\n",
              "      <th>1991-01-01</th>\n",
              "      <td>8</td>\n",
              "      <td>5.387799</td>\n",
              "      <td>-16.682634</td>\n",
              "      <td>-20.962350</td>\n",
              "      <td>4.70</td>\n",
              "      <td>4.07</td>\n",
              "    </tr>\n",
              "    <tr>\n",
              "      <th>1991-01-02</th>\n",
              "      <td>8</td>\n",
              "      <td>0.874177</td>\n",
              "      <td>-4.969985</td>\n",
              "      <td>-31.367516</td>\n",
              "      <td>4.56</td>\n",
              "      <td>4.25</td>\n",
              "    </tr>\n",
              "    <tr>\n",
              "      <th>1991-01-03</th>\n",
              "      <td>8</td>\n",
              "      <td>0.428518</td>\n",
              "      <td>-11.568413</td>\n",
              "      <td>-27.783907</td>\n",
              "      <td>4.43</td>\n",
              "      <td>5.20</td>\n",
              "    </tr>\n",
              "    <tr>\n",
              "      <th>1991-01-04</th>\n",
              "      <td>8</td>\n",
              "      <td>0.133608</td>\n",
              "      <td>-13.293263</td>\n",
              "      <td>-27.338250</td>\n",
              "      <td>4.24</td>\n",
              "      <td>5.41</td>\n",
              "    </tr>\n",
              "    <tr>\n",
              "      <th>1991-01-05</th>\n",
              "      <td>8</td>\n",
              "      <td>0.000000</td>\n",
              "      <td>-13.462649</td>\n",
              "      <td>-25.158234</td>\n",
              "      <td>4.15</td>\n",
              "      <td>5.44</td>\n",
              "    </tr>\n",
              "  </tbody>\n",
              "</table>\n",
              "</div>\n",
              "      <button class=\"colab-df-convert\" onclick=\"convertToInteractive('df-099663c9-a6a1-4ced-9871-36870330e69b')\"\n",
              "              title=\"Convert this dataframe to an interactive table.\"\n",
              "              style=\"display:none;\">\n",
              "        \n",
              "  <svg xmlns=\"http://www.w3.org/2000/svg\" height=\"24px\"viewBox=\"0 0 24 24\"\n",
              "       width=\"24px\">\n",
              "    <path d=\"M0 0h24v24H0V0z\" fill=\"none\"/>\n",
              "    <path d=\"M18.56 5.44l.94 2.06.94-2.06 2.06-.94-2.06-.94-.94-2.06-.94 2.06-2.06.94zm-11 1L8.5 8.5l.94-2.06 2.06-.94-2.06-.94L8.5 2.5l-.94 2.06-2.06.94zm10 10l.94 2.06.94-2.06 2.06-.94-2.06-.94-.94-2.06-.94 2.06-2.06.94z\"/><path d=\"M17.41 7.96l-1.37-1.37c-.4-.4-.92-.59-1.43-.59-.52 0-1.04.2-1.43.59L10.3 9.45l-7.72 7.72c-.78.78-.78 2.05 0 2.83L4 21.41c.39.39.9.59 1.41.59.51 0 1.02-.2 1.41-.59l7.78-7.78 2.81-2.81c.8-.78.8-2.07 0-2.86zM5.41 20L4 18.59l7.72-7.72 1.47 1.35L5.41 20z\"/>\n",
              "  </svg>\n",
              "      </button>\n",
              "      \n",
              "  <style>\n",
              "    .colab-df-container {\n",
              "      display:flex;\n",
              "      flex-wrap:wrap;\n",
              "      gap: 12px;\n",
              "    }\n",
              "\n",
              "    .colab-df-convert {\n",
              "      background-color: #E8F0FE;\n",
              "      border: none;\n",
              "      border-radius: 50%;\n",
              "      cursor: pointer;\n",
              "      display: none;\n",
              "      fill: #1967D2;\n",
              "      height: 32px;\n",
              "      padding: 0 0 0 0;\n",
              "      width: 32px;\n",
              "    }\n",
              "\n",
              "    .colab-df-convert:hover {\n",
              "      background-color: #E2EBFA;\n",
              "      box-shadow: 0px 1px 2px rgba(60, 64, 67, 0.3), 0px 1px 3px 1px rgba(60, 64, 67, 0.15);\n",
              "      fill: #174EA6;\n",
              "    }\n",
              "\n",
              "    [theme=dark] .colab-df-convert {\n",
              "      background-color: #3B4455;\n",
              "      fill: #D2E3FC;\n",
              "    }\n",
              "\n",
              "    [theme=dark] .colab-df-convert:hover {\n",
              "      background-color: #434B5C;\n",
              "      box-shadow: 0px 1px 3px 1px rgba(0, 0, 0, 0.15);\n",
              "      filter: drop-shadow(0px 1px 2px rgba(0, 0, 0, 0.3));\n",
              "      fill: #FFFFFF;\n",
              "    }\n",
              "  </style>\n",
              "\n",
              "      <script>\n",
              "        const buttonEl =\n",
              "          document.querySelector('#df-099663c9-a6a1-4ced-9871-36870330e69b button.colab-df-convert');\n",
              "        buttonEl.style.display =\n",
              "          google.colab.kernel.accessAllowed ? 'block' : 'none';\n",
              "\n",
              "        async function convertToInteractive(key) {\n",
              "          const element = document.querySelector('#df-099663c9-a6a1-4ced-9871-36870330e69b');\n",
              "          const dataTable =\n",
              "            await google.colab.kernel.invokeFunction('convertToInteractive',\n",
              "                                                     [key], {});\n",
              "          if (!dataTable) return;\n",
              "\n",
              "          const docLinkHtml = 'Like what you see? Visit the ' +\n",
              "            '<a target=\"_blank\" href=https://colab.research.google.com/notebooks/data_table.ipynb>data table notebook</a>'\n",
              "            + ' to learn more about interactive tables.';\n",
              "          element.innerHTML = '';\n",
              "          dataTable['output_type'] = 'display_data';\n",
              "          await google.colab.output.renderOutput(dataTable, element);\n",
              "          const docLink = document.createElement('div');\n",
              "          docLink.innerHTML = docLinkHtml;\n",
              "          element.appendChild(docLink);\n",
              "        }\n",
              "      </script>\n",
              "    </div>\n",
              "  </div>\n",
              "  "
            ]
          },
          "metadata": {},
          "execution_count": 33
        }
      ]
    },
    {
      "cell_type": "code",
      "source": [
        "# Next a column representing the past week's cumulative rainfall. \n",
        "\n",
        "def rainfall(x):\n",
        "  rainfall = []\n",
        "  length = len(model.discharge)\n",
        "  for i in range(length):\n",
        "    # In this case, we're only interested in the past rainfall. \n",
        "    if i + x < 0:\n",
        "      answer = model.pr[:i+1].sum()\n",
        "    else:\n",
        "      num = i + x\n",
        "      answer = model.pr[num:i].sum()\n",
        "    rainfall.append(answer)\n",
        "  name = f\"pr_{x}\"\n",
        "  model[name] = rainfall\n",
        "  "
      ],
      "metadata": {
        "id": "6FhHjGMFwKth"
      },
      "execution_count": 34,
      "outputs": []
    },
    {
      "cell_type": "code",
      "source": [
        "rainfall(-7)\n",
        "model.head()"
      ],
      "metadata": {
        "colab": {
          "base_uri": "https://localhost:8080/",
          "height": 235
        },
        "id": "Igqj9mYzOCPB",
        "outputId": "d73970e2-24a1-4153-b06a-1a2c74bdf88c"
      },
      "execution_count": 35,
      "outputs": [
        {
          "output_type": "execute_result",
          "data": {
            "text/plain": [
              "            watershed        pr     tasmax     tasmin  discharge  \\\n",
              "time                                                               \n",
              "1991-01-01          8  5.387799 -16.682634 -20.962350       4.70   \n",
              "1991-01-02          8  0.874177  -4.969985 -31.367516       4.56   \n",
              "1991-01-03          8  0.428518 -11.568413 -27.783907       4.43   \n",
              "1991-01-04          8  0.133608 -13.293263 -27.338250       4.24   \n",
              "1991-01-05          8  0.000000 -13.462649 -25.158234       4.15   \n",
              "\n",
              "            discharge_10     pr_-7  \n",
              "time                                \n",
              "1991-01-01          4.07  5.387799  \n",
              "1991-01-02          4.25  6.261976  \n",
              "1991-01-03          5.20  6.690494  \n",
              "1991-01-04          5.41  6.824102  \n",
              "1991-01-05          5.44  6.824102  "
            ],
            "text/html": [
              "\n",
              "  <div id=\"df-c8f15a19-8e6a-46bd-a050-78349c017c3e\">\n",
              "    <div class=\"colab-df-container\">\n",
              "      <div>\n",
              "<style scoped>\n",
              "    .dataframe tbody tr th:only-of-type {\n",
              "        vertical-align: middle;\n",
              "    }\n",
              "\n",
              "    .dataframe tbody tr th {\n",
              "        vertical-align: top;\n",
              "    }\n",
              "\n",
              "    .dataframe thead th {\n",
              "        text-align: right;\n",
              "    }\n",
              "</style>\n",
              "<table border=\"1\" class=\"dataframe\">\n",
              "  <thead>\n",
              "    <tr style=\"text-align: right;\">\n",
              "      <th></th>\n",
              "      <th>watershed</th>\n",
              "      <th>pr</th>\n",
              "      <th>tasmax</th>\n",
              "      <th>tasmin</th>\n",
              "      <th>discharge</th>\n",
              "      <th>discharge_10</th>\n",
              "      <th>pr_-7</th>\n",
              "    </tr>\n",
              "    <tr>\n",
              "      <th>time</th>\n",
              "      <th></th>\n",
              "      <th></th>\n",
              "      <th></th>\n",
              "      <th></th>\n",
              "      <th></th>\n",
              "      <th></th>\n",
              "      <th></th>\n",
              "    </tr>\n",
              "  </thead>\n",
              "  <tbody>\n",
              "    <tr>\n",
              "      <th>1991-01-01</th>\n",
              "      <td>8</td>\n",
              "      <td>5.387799</td>\n",
              "      <td>-16.682634</td>\n",
              "      <td>-20.962350</td>\n",
              "      <td>4.70</td>\n",
              "      <td>4.07</td>\n",
              "      <td>5.387799</td>\n",
              "    </tr>\n",
              "    <tr>\n",
              "      <th>1991-01-02</th>\n",
              "      <td>8</td>\n",
              "      <td>0.874177</td>\n",
              "      <td>-4.969985</td>\n",
              "      <td>-31.367516</td>\n",
              "      <td>4.56</td>\n",
              "      <td>4.25</td>\n",
              "      <td>6.261976</td>\n",
              "    </tr>\n",
              "    <tr>\n",
              "      <th>1991-01-03</th>\n",
              "      <td>8</td>\n",
              "      <td>0.428518</td>\n",
              "      <td>-11.568413</td>\n",
              "      <td>-27.783907</td>\n",
              "      <td>4.43</td>\n",
              "      <td>5.20</td>\n",
              "      <td>6.690494</td>\n",
              "    </tr>\n",
              "    <tr>\n",
              "      <th>1991-01-04</th>\n",
              "      <td>8</td>\n",
              "      <td>0.133608</td>\n",
              "      <td>-13.293263</td>\n",
              "      <td>-27.338250</td>\n",
              "      <td>4.24</td>\n",
              "      <td>5.41</td>\n",
              "      <td>6.824102</td>\n",
              "    </tr>\n",
              "    <tr>\n",
              "      <th>1991-01-05</th>\n",
              "      <td>8</td>\n",
              "      <td>0.000000</td>\n",
              "      <td>-13.462649</td>\n",
              "      <td>-25.158234</td>\n",
              "      <td>4.15</td>\n",
              "      <td>5.44</td>\n",
              "      <td>6.824102</td>\n",
              "    </tr>\n",
              "  </tbody>\n",
              "</table>\n",
              "</div>\n",
              "      <button class=\"colab-df-convert\" onclick=\"convertToInteractive('df-c8f15a19-8e6a-46bd-a050-78349c017c3e')\"\n",
              "              title=\"Convert this dataframe to an interactive table.\"\n",
              "              style=\"display:none;\">\n",
              "        \n",
              "  <svg xmlns=\"http://www.w3.org/2000/svg\" height=\"24px\"viewBox=\"0 0 24 24\"\n",
              "       width=\"24px\">\n",
              "    <path d=\"M0 0h24v24H0V0z\" fill=\"none\"/>\n",
              "    <path d=\"M18.56 5.44l.94 2.06.94-2.06 2.06-.94-2.06-.94-.94-2.06-.94 2.06-2.06.94zm-11 1L8.5 8.5l.94-2.06 2.06-.94-2.06-.94L8.5 2.5l-.94 2.06-2.06.94zm10 10l.94 2.06.94-2.06 2.06-.94-2.06-.94-.94-2.06-.94 2.06-2.06.94z\"/><path d=\"M17.41 7.96l-1.37-1.37c-.4-.4-.92-.59-1.43-.59-.52 0-1.04.2-1.43.59L10.3 9.45l-7.72 7.72c-.78.78-.78 2.05 0 2.83L4 21.41c.39.39.9.59 1.41.59.51 0 1.02-.2 1.41-.59l7.78-7.78 2.81-2.81c.8-.78.8-2.07 0-2.86zM5.41 20L4 18.59l7.72-7.72 1.47 1.35L5.41 20z\"/>\n",
              "  </svg>\n",
              "      </button>\n",
              "      \n",
              "  <style>\n",
              "    .colab-df-container {\n",
              "      display:flex;\n",
              "      flex-wrap:wrap;\n",
              "      gap: 12px;\n",
              "    }\n",
              "\n",
              "    .colab-df-convert {\n",
              "      background-color: #E8F0FE;\n",
              "      border: none;\n",
              "      border-radius: 50%;\n",
              "      cursor: pointer;\n",
              "      display: none;\n",
              "      fill: #1967D2;\n",
              "      height: 32px;\n",
              "      padding: 0 0 0 0;\n",
              "      width: 32px;\n",
              "    }\n",
              "\n",
              "    .colab-df-convert:hover {\n",
              "      background-color: #E2EBFA;\n",
              "      box-shadow: 0px 1px 2px rgba(60, 64, 67, 0.3), 0px 1px 3px 1px rgba(60, 64, 67, 0.15);\n",
              "      fill: #174EA6;\n",
              "    }\n",
              "\n",
              "    [theme=dark] .colab-df-convert {\n",
              "      background-color: #3B4455;\n",
              "      fill: #D2E3FC;\n",
              "    }\n",
              "\n",
              "    [theme=dark] .colab-df-convert:hover {\n",
              "      background-color: #434B5C;\n",
              "      box-shadow: 0px 1px 3px 1px rgba(0, 0, 0, 0.15);\n",
              "      filter: drop-shadow(0px 1px 2px rgba(0, 0, 0, 0.3));\n",
              "      fill: #FFFFFF;\n",
              "    }\n",
              "  </style>\n",
              "\n",
              "      <script>\n",
              "        const buttonEl =\n",
              "          document.querySelector('#df-c8f15a19-8e6a-46bd-a050-78349c017c3e button.colab-df-convert');\n",
              "        buttonEl.style.display =\n",
              "          google.colab.kernel.accessAllowed ? 'block' : 'none';\n",
              "\n",
              "        async function convertToInteractive(key) {\n",
              "          const element = document.querySelector('#df-c8f15a19-8e6a-46bd-a050-78349c017c3e');\n",
              "          const dataTable =\n",
              "            await google.colab.kernel.invokeFunction('convertToInteractive',\n",
              "                                                     [key], {});\n",
              "          if (!dataTable) return;\n",
              "\n",
              "          const docLinkHtml = 'Like what you see? Visit the ' +\n",
              "            '<a target=\"_blank\" href=https://colab.research.google.com/notebooks/data_table.ipynb>data table notebook</a>'\n",
              "            + ' to learn more about interactive tables.';\n",
              "          element.innerHTML = '';\n",
              "          dataTable['output_type'] = 'display_data';\n",
              "          await google.colab.output.renderOutput(dataTable, element);\n",
              "          const docLink = document.createElement('div');\n",
              "          docLink.innerHTML = docLinkHtml;\n",
              "          element.appendChild(docLink);\n",
              "        }\n",
              "      </script>\n",
              "    </div>\n",
              "  </div>\n",
              "  "
            ]
          },
          "metadata": {},
          "execution_count": 35
        }
      ]
    },
    {
      "cell_type": "code",
      "source": [
        "# For the purposes of this iteration of the model, only precipitation and discharge values will be kept. \n",
        "model = model.drop(['watershed', 'tasmax', 'tasmin'], axis=1)"
      ],
      "metadata": {
        "id": "89owRhOAPA9l"
      },
      "execution_count": 36,
      "outputs": []
    },
    {
      "cell_type": "code",
      "source": [],
      "metadata": {
        "id": "X1GLWsqvOFMn"
      },
      "execution_count": null,
      "outputs": []
    },
    {
      "cell_type": "markdown",
      "source": [
        "### Phase Three: Building the Multivariate Time Series Model\n"
      ],
      "metadata": {
        "id": "7-62qMYUrQ67"
      }
    },
    {
      "cell_type": "code",
      "source": [
        "time_shift = 10\n",
        "\n",
        "target_data = model['discharge'].shift(time_shift)\n",
        "data = model.iloc[:-time_shift]\n",
        "data"
      ],
      "metadata": {
        "colab": {
          "base_uri": "https://localhost:8080/",
          "height": 232
        },
        "id": "QcPvIS-YoAAI",
        "outputId": "c52843f5-ecbf-4043-eba0-2c6cbd193af1"
      },
      "execution_count": 57,
      "outputs": [
        {
          "output_type": "error",
          "ename": "TypeError",
          "evalue": "ignored",
          "traceback": [
            "\u001b[0;31m---------------------------------------------------------------------------\u001b[0m",
            "\u001b[0;31mTypeError\u001b[0m                                 Traceback (most recent call last)",
            "\u001b[0;32m<ipython-input-57-acb04fc0d236>\u001b[0m in \u001b[0;36m<module>\u001b[0;34m\u001b[0m\n\u001b[1;32m      1\u001b[0m \u001b[0mtime_shift\u001b[0m \u001b[0;34m=\u001b[0m \u001b[0;36m10\u001b[0m\u001b[0;34m\u001b[0m\u001b[0;34m\u001b[0m\u001b[0m\n\u001b[1;32m      2\u001b[0m \u001b[0;34m\u001b[0m\u001b[0m\n\u001b[0;32m----> 3\u001b[0;31m \u001b[0mtarget_data\u001b[0m \u001b[0;34m=\u001b[0m \u001b[0mmodel\u001b[0m\u001b[0;34m[\u001b[0m\u001b[0;34m'discharge'\u001b[0m\u001b[0;34m]\u001b[0m\u001b[0;34m.\u001b[0m\u001b[0mshift\u001b[0m\u001b[0;34m(\u001b[0m\u001b[0mtime_shift\u001b[0m\u001b[0;34m)\u001b[0m\u001b[0;34m\u001b[0m\u001b[0;34m\u001b[0m\u001b[0m\n\u001b[0m\u001b[1;32m      4\u001b[0m \u001b[0mdata\u001b[0m \u001b[0;34m=\u001b[0m \u001b[0mmodel\u001b[0m\u001b[0;34m.\u001b[0m\u001b[0miloc\u001b[0m\u001b[0;34m[\u001b[0m\u001b[0;34m:\u001b[0m\u001b[0;34m-\u001b[0m\u001b[0mtime_shift\u001b[0m\u001b[0;34m]\u001b[0m\u001b[0;34m\u001b[0m\u001b[0;34m\u001b[0m\u001b[0m\n\u001b[1;32m      5\u001b[0m \u001b[0mdata\u001b[0m\u001b[0;34m\u001b[0m\u001b[0;34m\u001b[0m\u001b[0m\n",
            "\u001b[0;31mTypeError\u001b[0m: 'ShallowRegressionLSTM' object is not subscriptable"
          ]
        }
      ]
    },
    {
      "cell_type": "code",
      "source": [
        "test_head = data.index[int(0.75*len(data))]\n",
        "test_head"
      ],
      "metadata": {
        "colab": {
          "base_uri": "https://localhost:8080/"
        },
        "id": "y0EVdqWzowY4",
        "outputId": "9da44612-10cd-4bf3-900d-7bd234b98de4"
      },
      "execution_count": 58,
      "outputs": [
        {
          "output_type": "execute_result",
          "data": {
            "text/plain": [
              "Timestamp('2009-09-23 00:00:00')"
            ]
          },
          "metadata": {},
          "execution_count": 58
        }
      ]
    },
    {
      "cell_type": "code",
      "source": [
        "df_train = data.loc[:test_head,:]\n",
        "df_test = data.loc[test_head:,:]\n",
        "target_train = target_data.loc[:test_head]\n",
        "target_test = target_data.loc[test_head:]"
      ],
      "metadata": {
        "id": "4wubZzRjpQ6A"
      },
      "execution_count": 59,
      "outputs": []
    },
    {
      "cell_type": "code",
      "source": [
        "import torch\n",
        "from torch.utils.data import Dataset\n",
        "\n",
        "class SequenceDataset(Dataset):\n",
        "    def __init__(self, dataframe, target, features, sequence_length=5):\n",
        "        self.features = features\n",
        "        self.target = target\n",
        "        self.sequence_length = sequence_length\n",
        "        self.y = torch.tensor(dataframe[target].values).float()\n",
        "        self.X = torch.tensor(dataframe[features].values).float()\n",
        "\n",
        "    def __len__(self):\n",
        "        return self.X.shape[0]\n",
        "\n",
        "    def __getitem__(self, i): \n",
        "        if i >= self.sequence_length - 1:\n",
        "            i_start = i - self.sequence_length + 1\n",
        "            x = self.X[i_start:(i + 1), :]\n",
        "        else:\n",
        "            padding = self.X[0].repeat(self.sequence_length - i - 1, 1)\n",
        "            x = self.X[0:(i + 1), :]\n",
        "            x = torch.cat((padding, x), 0)\n",
        "\n",
        "        return x, self.y[i]"
      ],
      "metadata": {
        "id": "hfJXHRufzujD"
      },
      "execution_count": 60,
      "outputs": []
    },
    {
      "cell_type": "code",
      "source": [
        "i = 27\n",
        "sequence_length = 10\n",
        "features = ['pr', 'discharge', 'pr_-7']\n",
        "target = 'discharge_10'\n",
        "\n",
        "train_dataset = SequenceDataset(\n",
        "    df_train,\n",
        "    target=target,\n",
        "    features=features,\n",
        "    sequence_length=sequence_length\n",
        ")\n",
        "\n",
        "X, y = train_dataset[i]\n",
        "print(X)"
      ],
      "metadata": {
        "colab": {
          "base_uri": "https://localhost:8080/"
        },
        "id": "PzwqRuNhz4Hk",
        "outputId": "50f0e527-0ec3-4888-b2f2-0c2a4f0d303f"
      },
      "execution_count": 61,
      "outputs": [
        {
          "output_type": "stream",
          "name": "stdout",
          "text": [
            "tensor([[ 0.0000,  4.7800, 42.4820],\n",
            "        [ 0.0000,  4.5800, 26.4868],\n",
            "        [ 0.0000,  4.4700, 24.4445],\n",
            "        [ 9.7153,  4.2700, 22.3264],\n",
            "        [ 5.0152,  3.9700, 26.3853],\n",
            "        [ 1.9975,  3.9900, 27.4752],\n",
            "        [ 0.1479,  4.0500, 28.1701],\n",
            "        [ 0.8742,  4.0600, 16.8759],\n",
            "        [11.4553,  4.0500, 17.7501],\n",
            "        [ 0.0000,  4.0100, 29.2054]])\n"
          ]
        }
      ]
    },
    {
      "cell_type": "code",
      "source": [
        "from torch.utils.data import DataLoader\n",
        "torch.manual_seed(42)\n",
        "\n",
        "train_loader = DataLoader(train_dataset, batch_size=3, shuffle=True)\n",
        "\n",
        "X, y = next(iter(train_loader))\n",
        "print(X.shape)\n",
        "print(X)"
      ],
      "metadata": {
        "colab": {
          "base_uri": "https://localhost:8080/"
        },
        "id": "gs6ORHJU0L2z",
        "outputId": "3ec25b21-510d-475c-af80-05f2cf693311"
      },
      "execution_count": 62,
      "outputs": [
        {
          "output_type": "stream",
          "name": "stdout",
          "text": [
            "torch.Size([3, 10, 3])\n",
            "tensor([[[ 0.0000,  3.3600,  3.5692],\n",
            "         [ 0.0000,  3.1800,  3.5513],\n",
            "         [ 0.0000,  2.9100,  0.0178],\n",
            "         [ 0.0000,  2.8800,  0.0000],\n",
            "         [ 0.0000,  2.6900,  0.0000],\n",
            "         [ 0.0000,  2.7700,  0.0000],\n",
            "         [ 0.0000,  2.7600,  0.0000],\n",
            "         [12.6823,  2.9400,  0.0000],\n",
            "         [ 0.0000,  2.5500, 12.6823],\n",
            "         [ 0.0000,  2.7000, 12.6823]],\n",
            "\n",
            "        [[ 0.2826, 10.0000,  6.7942],\n",
            "         [ 0.4973,  9.7600,  7.0767],\n",
            "         [ 0.2117,  9.1800,  7.5740],\n",
            "         [ 0.0000,  8.5000,  7.7857],\n",
            "         [ 0.1070,  8.4200,  7.7857],\n",
            "         [ 0.5015,  8.0300,  7.8927],\n",
            "         [ 1.3687,  7.7500,  8.1633],\n",
            "         [ 1.6115,  7.1400,  2.9688],\n",
            "         [ 1.9966,  6.8800,  4.2977],\n",
            "         [ 3.9438,  6.5400,  5.7969]],\n",
            "\n",
            "        [[ 0.0000,  3.3300,  9.6689],\n",
            "         [ 0.0000,  3.1600,  8.1443],\n",
            "         [ 2.5710,  3.1500,  5.5967],\n",
            "         [ 3.5251,  3.1000,  4.5971],\n",
            "         [ 3.8838,  3.1200,  7.6207],\n",
            "         [ 1.3013,  3.1500,  9.9799],\n",
            "         [ 0.5015,  3.2000, 11.2813],\n",
            "         [ 0.0000,  3.2500, 11.7828],\n",
            "         [ 1.0231,  3.3100, 11.7828],\n",
            "         [ 0.5015,  3.1400, 12.8058]]])\n"
          ]
        }
      ]
    },
    {
      "cell_type": "code",
      "source": [
        "batch_size = 4\n",
        "sequence_length = 10\n",
        "\n",
        "train_dataset = SequenceDataset(\n",
        "    df_train,\n",
        "    target=target,\n",
        "    features=features,\n",
        "    sequence_length=sequence_length\n",
        ")\n",
        "test_dataset = SequenceDataset(\n",
        "    df_test,\n",
        "    target=target,\n",
        "    features=features,\n",
        "    sequence_length=sequence_length\n",
        ")\n",
        "\n",
        "train_loader = DataLoader(train_dataset, batch_size=batch_size, shuffle=True)\n",
        "test_loader = DataLoader(test_dataset, batch_size=batch_size, shuffle=False)\n",
        "\n",
        "X, y = next(iter(train_loader))\n",
        "\n",
        "print(\"Features shape:\", X.shape)\n",
        "print(\"Target shape:\", y.shape)"
      ],
      "metadata": {
        "colab": {
          "base_uri": "https://localhost:8080/"
        },
        "id": "5WCPA43E0L50",
        "outputId": "7b60c1f6-c80d-4718-e20a-1c1c2e59376f"
      },
      "execution_count": 63,
      "outputs": [
        {
          "output_type": "stream",
          "name": "stdout",
          "text": [
            "Features shape: torch.Size([4, 10, 3])\n",
            "Target shape: torch.Size([4])\n"
          ]
        }
      ]
    },
    {
      "cell_type": "code",
      "source": [
        "from torch import nn\n",
        "\n",
        "class ShallowRegressionLSTM(nn.Module):\n",
        "    def __init__(self, num_sensors, hidden_units):\n",
        "        super().__init__()\n",
        "        self.num_sensors = num_sensors  # this is the number of features\n",
        "        self.hidden_units = hidden_units\n",
        "        self.num_layers = 1\n",
        "\n",
        "        self.lstm = nn.LSTM(\n",
        "            input_size=num_sensors,\n",
        "            hidden_size=hidden_units,\n",
        "            batch_first=True,\n",
        "            num_layers=self.num_layers\n",
        "        )\n",
        "\n",
        "        self.linear = nn.Linear(in_features=self.hidden_units, out_features=1)\n",
        "\n",
        "    def forward(self, x):\n",
        "        batch_size = x.shape[0]\n",
        "        h0 = torch.zeros(self.num_layers, batch_size, self.hidden_units).requires_grad_()\n",
        "        c0 = torch.zeros(self.num_layers, batch_size, self.hidden_units).requires_grad_()\n",
        "\n",
        "        _, (hn, _) = self.lstm(x, (h0, c0))\n",
        "        out = self.linear(hn[0]).flatten()  # First dim of Hn is num_layers, which is set to 1 above.\n",
        "\n",
        "        return out"
      ],
      "metadata": {
        "id": "WXMYVDk20L8s"
      },
      "execution_count": 66,
      "outputs": []
    },
    {
      "cell_type": "code",
      "source": [
        "learning_rate = 5e-5\n",
        "num_hidden_units = 64\n",
        "\n",
        "model = ShallowRegressionLSTM(num_sensors=len(features), hidden_units=num_hidden_units)\n",
        "loss_function = nn.MSELoss()\n",
        "optimizer = torch.optim.Adam(model.parameters(), lr=learning_rate)"
      ],
      "metadata": {
        "id": "eoYh7n3I0L_j"
      },
      "execution_count": 67,
      "outputs": []
    },
    {
      "cell_type": "code",
      "source": [
        "def train_model(data_loader, model, loss_function, optimizer):\n",
        "    num_batches = len(data_loader)\n",
        "    total_loss = 0\n",
        "    model.train()\n",
        "\n",
        "    for X, y in data_loader:\n",
        "        output = model(X)\n",
        "        loss = loss_function(output, y)\n",
        "\n",
        "        optimizer.zero_grad()\n",
        "        loss.backward()\n",
        "        optimizer.step()\n",
        "\n",
        "        total_loss += loss.item()\n",
        "\n",
        "    avg_loss = total_loss / num_batches\n",
        "    print(f\"Train loss: {avg_loss}\")\n",
        "\n",
        "def test_model(data_loader, model, loss_function):\n",
        "\n",
        "    num_batches = len(data_loader)\n",
        "    total_loss = 0\n",
        "\n",
        "    model.eval()\n",
        "    with torch.no_grad():\n",
        "        for X, y in data_loader:\n",
        "            output = model(X)\n",
        "            total_loss += loss_function(output, y).item()\n",
        "\n",
        "    avg_loss = total_loss / num_batches\n",
        "    print(f\"Test loss: {avg_loss}\")\n",
        "\n",
        "\n",
        "print(\"Untrained test\\n--------\")\n",
        "test_model(test_loader, model, loss_function)\n",
        "print()\n",
        "\n",
        "for ix_epoch in range(50):\n",
        "    \n",
        "    print(f\"Epoch {ix_epoch}\\n---------\")\n",
        "    train_model(train_loader, model, loss_function, optimizer=optimizer)\n",
        "    test_model(test_loader, model, loss_function)\n",
        "    print()"
      ],
      "metadata": {
        "colab": {
          "base_uri": "https://localhost:8080/"
        },
        "id": "YBhUNWkj0XPs",
        "outputId": "cd0278fd-6009-44cb-bacd-dc51683edec1"
      },
      "execution_count": 68,
      "outputs": [
        {
          "output_type": "stream",
          "name": "stdout",
          "text": [
            "Untrained test\n",
            "--------\n",
            "Test loss: 958.5912810916867\n",
            "\n",
            "Epoch 0\n",
            "---------\n",
            "Train loss: 808.1738400491687\n",
            "Test loss: 766.364804306149\n",
            "\n",
            "Epoch 1\n",
            "---------\n",
            "Train loss: 676.0475414297878\n",
            "Test loss: 673.6683317415266\n",
            "\n",
            "Epoch 2\n",
            "---------\n",
            "Train loss: 606.6485758453155\n",
            "Test loss: 612.6645304450159\n",
            "\n",
            "Epoch 3\n",
            "---------\n",
            "Train loss: 553.1051054010957\n",
            "Test loss: 557.5918662941276\n",
            "\n",
            "Epoch 4\n",
            "---------\n",
            "Train loss: 507.45329811923915\n",
            "Test loss: 511.7809171734864\n",
            "\n",
            "Epoch 5\n",
            "---------\n",
            "Train loss: 470.09750119512677\n",
            "Test loss: 471.7999472601206\n",
            "\n",
            "Epoch 6\n",
            "---------\n",
            "Train loss: 437.78671114713234\n",
            "Test loss: 436.83489548409074\n",
            "\n",
            "Epoch 7\n",
            "---------\n",
            "Train loss: 410.603536526267\n",
            "Test loss: 407.05834632898285\n",
            "\n",
            "Epoch 8\n",
            "---------\n",
            "Train loss: 387.3106307084844\n",
            "Test loss: 379.59043839874624\n",
            "\n",
            "Epoch 9\n",
            "---------\n",
            "Train loss: 366.63712629656817\n",
            "Test loss: 355.86593990930845\n",
            "\n",
            "Epoch 10\n",
            "---------\n",
            "Train loss: 348.92844853412157\n",
            "Test loss: 335.69862362570024\n",
            "\n",
            "Epoch 11\n",
            "---------\n",
            "Train loss: 333.1415639385627\n",
            "Test loss: 317.3827149784502\n",
            "\n",
            "Epoch 12\n",
            "---------\n",
            "Train loss: 319.5392982143558\n",
            "Test loss: 300.365866008549\n",
            "\n",
            "Epoch 13\n",
            "---------\n",
            "Train loss: 307.34992597761175\n",
            "Test loss: 287.09027773337914\n",
            "\n",
            "Epoch 14\n",
            "---------\n",
            "Train loss: 296.84391217397047\n",
            "Test loss: 273.55694667641205\n",
            "\n",
            "Epoch 15\n",
            "---------\n",
            "Train loss: 287.0840106003644\n",
            "Test loss: 262.63084421223664\n",
            "\n",
            "Epoch 16\n",
            "---------\n",
            "Train loss: 278.1606439932362\n",
            "Test loss: 252.2787884436874\n",
            "\n",
            "Epoch 17\n",
            "---------\n",
            "Train loss: 270.51928275357227\n",
            "Test loss: 243.12374504718233\n",
            "\n",
            "Epoch 18\n",
            "---------\n",
            "Train loss: 263.83928083809565\n",
            "Test loss: 234.45066979089376\n",
            "\n",
            "Epoch 19\n",
            "---------\n",
            "Train loss: 258.1538596883229\n",
            "Test loss: 226.07473414389486\n",
            "\n",
            "Epoch 20\n",
            "---------\n",
            "Train loss: 252.78536040396858\n",
            "Test loss: 220.27193971457785\n",
            "\n",
            "Epoch 21\n",
            "---------\n",
            "Train loss: 247.41884830826376\n",
            "Test loss: 215.84573966086614\n",
            "\n",
            "Epoch 22\n",
            "---------\n",
            "Train loss: 242.85386797814934\n",
            "Test loss: 209.16763139106234\n",
            "\n",
            "Epoch 23\n",
            "---------\n",
            "Train loss: 238.97497381348313\n",
            "Test loss: 204.32013613092568\n",
            "\n",
            "Epoch 24\n",
            "---------\n",
            "Train loss: 235.67180498389277\n",
            "Test loss: 201.01027753167736\n",
            "\n",
            "Epoch 25\n",
            "---------\n",
            "Train loss: 232.17408298662403\n",
            "Test loss: 196.01862742062235\n",
            "\n",
            "Epoch 26\n",
            "---------\n",
            "Train loss: 229.09792303853717\n",
            "Test loss: 193.54608288533078\n",
            "\n",
            "Epoch 27\n",
            "---------\n",
            "Train loss: 226.63332264778742\n",
            "Test loss: 190.20411245271745\n",
            "\n",
            "Epoch 28\n",
            "---------\n",
            "Train loss: 223.93458273693318\n",
            "Test loss: 186.89692926712027\n",
            "\n",
            "Epoch 29\n",
            "---------\n",
            "Train loss: 221.9856928639911\n",
            "Test loss: 185.4925895874762\n",
            "\n",
            "Epoch 30\n",
            "---------\n",
            "Train loss: 219.67637637049648\n",
            "Test loss: 184.7320400952784\n",
            "\n",
            "Epoch 31\n",
            "---------\n",
            "Train loss: 217.88428426873372\n",
            "Test loss: 182.69303794728427\n",
            "\n",
            "Epoch 32\n",
            "---------\n",
            "Train loss: 215.62956835192801\n",
            "Test loss: 179.90949002361486\n",
            "\n",
            "Epoch 33\n",
            "---------\n",
            "Train loss: 213.9827297624105\n",
            "Test loss: 178.34846290654866\n",
            "\n",
            "Epoch 34\n",
            "---------\n",
            "Train loss: 212.50215683611407\n",
            "Test loss: 179.42682496461066\n",
            "\n",
            "Epoch 35\n",
            "---------\n",
            "Train loss: 210.70941299512276\n",
            "Test loss: 176.09104547042386\n",
            "\n",
            "Epoch 36\n",
            "---------\n",
            "Train loss: 209.41686228492904\n",
            "Test loss: 176.21575620285222\n",
            "\n",
            "Epoch 37\n",
            "---------\n",
            "Train loss: 207.20616525381558\n",
            "Test loss: 177.71452947067434\n",
            "\n",
            "Epoch 38\n",
            "---------\n",
            "Train loss: 206.7501857571439\n",
            "Test loss: 175.59063493079242\n",
            "\n",
            "Epoch 39\n",
            "---------\n",
            "Train loss: 205.82568277264028\n",
            "Test loss: 174.42135628292274\n",
            "\n",
            "Epoch 40\n",
            "---------\n",
            "Train loss: 204.35354773653427\n",
            "Test loss: 173.7956844952623\n",
            "\n",
            "Epoch 41\n",
            "---------\n",
            "Train loss: 203.41824042744074\n",
            "Test loss: 174.63678019625934\n",
            "\n",
            "Epoch 42\n",
            "---------\n",
            "Train loss: 202.21790108515992\n",
            "Test loss: 173.88743015427482\n",
            "\n",
            "Epoch 43\n",
            "---------\n",
            "Train loss: 201.16927569983542\n",
            "Test loss: 174.600023168878\n",
            "\n",
            "Epoch 44\n",
            "---------\n",
            "Train loss: 200.44883077562483\n",
            "Test loss: 173.62907316690416\n",
            "\n",
            "Epoch 45\n",
            "---------\n",
            "Train loss: 199.26165529800778\n",
            "Test loss: 172.79251080774418\n",
            "\n",
            "Epoch 46\n",
            "---------\n",
            "Train loss: 198.3903123067767\n",
            "Test loss: 174.35459458295927\n",
            "\n",
            "Epoch 47\n",
            "---------\n",
            "Train loss: 197.6537609755087\n",
            "Test loss: 170.2921707765827\n",
            "\n",
            "Epoch 48\n",
            "---------\n",
            "Train loss: 196.2698961712076\n",
            "Test loss: 174.0691528417816\n",
            "\n",
            "Epoch 49\n",
            "---------\n",
            "Train loss: 195.58008611502265\n",
            "Test loss: 175.06073856516537\n",
            "\n"
          ]
        }
      ]
    },
    {
      "cell_type": "code",
      "source": [
        "def predict(data_loader, model):\n",
        "\n",
        "    output = torch.tensor([])\n",
        "    model.eval()\n",
        "    with torch.no_grad():\n",
        "        for X, _ in data_loader:\n",
        "            y_star = model(X)\n",
        "            output = torch.cat((output, y_star), 0)\n",
        "\n",
        "    return output\n",
        "\n",
        "\n",
        "train_eval_loader = DataLoader(train_dataset, batch_size=batch_size, shuffle=False)\n",
        "\n",
        "ystar_col = \"Model forecast\"\n",
        "df_train[ystar_col] = predict(train_eval_loader, model).numpy()\n",
        "df_test[ystar_col] = predict(test_loader, model).numpy()\n",
        "\n",
        "df_out = pd.concat((df_train, df_test))[[target, ystar_col]]\n",
        "\n",
        "# for c in df_out.columns:\n",
        "#     df_out[c] = df_out[c] * target_stdev + target_mean\n",
        "\n",
        "print(df_out)"
      ],
      "metadata": {
        "colab": {
          "base_uri": "https://localhost:8080/"
        },
        "id": "u6XIPoqO1IN8",
        "outputId": "97d29846-eec3-476a-971a-b594b25d2a0c"
      },
      "execution_count": 69,
      "outputs": [
        {
          "output_type": "stream",
          "name": "stderr",
          "text": [
            "/usr/local/lib/python3.7/dist-packages/ipykernel_launcher.py:16: SettingWithCopyWarning: \n",
            "A value is trying to be set on a copy of a slice from a DataFrame.\n",
            "Try using .loc[row_indexer,col_indexer] = value instead\n",
            "\n",
            "See the caveats in the documentation: https://pandas.pydata.org/pandas-docs/stable/user_guide/indexing.html#returning-a-view-versus-a-copy\n",
            "  app.launch_new_instance()\n"
          ]
        },
        {
          "output_type": "stream",
          "name": "stdout",
          "text": [
            "            discharge_10  Model forecast\n",
            "time                                    \n",
            "1991-01-01          4.07        4.374395\n",
            "1991-01-02          4.25        4.523427\n",
            "1991-01-03          5.20        5.121223\n",
            "1991-01-04          5.41        5.441645\n",
            "1991-01-05          5.44        5.630933\n",
            "...                  ...             ...\n",
            "2015-12-17          9.02       11.673494\n",
            "2015-12-18          7.74       11.867979\n",
            "2015-12-19          7.10        9.640316\n",
            "2015-12-20          7.20        9.345924\n",
            "2015-12-21          7.61        9.299837\n",
            "\n",
            "[9122 rows x 2 columns]\n"
          ]
        },
        {
          "output_type": "stream",
          "name": "stderr",
          "text": [
            "/usr/local/lib/python3.7/dist-packages/ipykernel_launcher.py:17: SettingWithCopyWarning: \n",
            "A value is trying to be set on a copy of a slice from a DataFrame.\n",
            "Try using .loc[row_indexer,col_indexer] = value instead\n",
            "\n",
            "See the caveats in the documentation: https://pandas.pydata.org/pandas-docs/stable/user_guide/indexing.html#returning-a-view-versus-a-copy\n"
          ]
        }
      ]
    },
    {
      "cell_type": "code",
      "source": [
        "# For visual representation, plotting discharge of watershed 8\n",
        "\n",
        "x = range(len(shed8))\n",
        "y1 = df_out.discharge_10\n",
        "y2 = df_out['Model forecast']\n",
        "\n",
        "f = plt.figure()\n",
        "f.set_figwidth(30)\n",
        "f.set_figheight(10)\n",
        "plt.title(\"Watershed 8\")\n",
        "plt.xlabel(\"Time Steps (days forward from January 1, 1994)\") # A track varies in timing, but averages to every 3 days.\n",
        "plt.ylabel(\"Discharge Level (cubic meters per second)\")\n",
        "plt.plot(y1, label = 'Discharge')\n",
        "plt.plot(y2, label = 'Predictions')\n",
        "\n",
        "plt.legend()\n",
        "plt.show()"
      ],
      "metadata": {
        "colab": {
          "base_uri": "https://localhost:8080/",
          "height": 496
        },
        "id": "FWNS1Gm02ii4",
        "outputId": "f64fa54d-4fa3-4660-e747-691d269c2508"
      },
      "execution_count": 70,
      "outputs": [
        {
          "output_type": "display_data",
          "data": {
            "text/plain": [
              "<Figure size 2160x720 with 1 Axes>"
            ],
            "image/png": "[encoded data removed]"
          },
          "metadata": {
            "needs_background": "light"
          }
        }
      ]
    },
    {
      "cell_type": "code",
      "source": [
        "# We are using SMAPE to measure the performance of our models. \n",
        "total = 0\n",
        "for i in range(len(df_out)):\n",
        "  predict = df_out['Model forecast'][i]\n",
        "  recorded = df_out.discharge_10[i]\n",
        "  top = np.abs(predict - recorded)\n",
        "  bottom = ((predict + recorded)/2)\n",
        "  answer = top/bottom\n",
        "  total += answer\n",
        "smape = total/len(df_out) * 100\n",
        "print(\"For Watershed 8, this model's sMAPE score is:\", smape)"
      ],
      "metadata": {
        "colab": {
          "base_uri": "https://localhost:8080/"
        },
        "id": "8oflO3-b3Tvh",
        "outputId": "edd36fae-f768-4355-fd55-60e1ebc8d31d"
      },
      "execution_count": 71,
      "outputs": [
        {
          "output_type": "stream",
          "name": "stdout",
          "text": [
            "For Watershed 8, this model's sMAPE score is: 32.18931624946136\n"
          ]
        }
      ]
    },
    {
      "cell_type": "code",
      "source": [
        "# Plotting the loss scores, both training and test. \n",
        "\n",
        "x = range(len(shed175))\n",
        "y1 = df_out.discharge_10\n",
        "y2 = df_out['Model forecast']\n",
        "\n",
        "f = plt.figure()\n",
        "f.set_figwidth(30)\n",
        "f.set_figheight(10)\n",
        "plt.title(\"Watershed 175\")\n",
        "plt.xlabel(\"Time Steps (days forward from January 1, 1994)\") # A track varies in timing, but averages to every 3 days.\n",
        "plt.ylabel(\"Discharge Level (cubic meters per second)\")\n",
        "plt.plot(y1, label = 'Discharge')\n",
        "plt.plot(y2, label = 'Predictions')\n",
        "\n",
        "plt.legend()\n",
        "plt.show()"
      ],
      "metadata": {
        "id": "KNBzfywVNGBa"
      },
      "execution_count": null,
      "outputs": []
    },
    {
      "cell_type": "code",
      "source": [],
      "metadata": {
        "id": "lvY7BTHA4ACj"
      },
      "execution_count": null,
      "outputs": []
    }
  ]
}